{
  "nbformat": 4,
  "nbformat_minor": 0,
  "metadata": {
    "colab": {
      "provenance": [],
      "authorship_tag": "ABX9TyOSOIQLlCYQWvLfBLsRG3qr",
      "include_colab_link": true
    },
    "kernelspec": {
      "name": "python3",
      "display_name": "Python 3"
    },
    "language_info": {
      "name": "python"
    }
  },
  "cells": [
    {
      "cell_type": "markdown",
      "metadata": {
        "id": "view-in-github",
        "colab_type": "text"
      },
      "source": [
        "<a href=\"https://colab.research.google.com/github/tenaabebaw/Software-Tools-and-Practice-2016/blob/master/Tiena_l.ipynb\" target=\"_parent\"><img src=\"https://colab.research.google.com/assets/colab-badge.svg\" alt=\"Open In Colab\"/></a>"
      ]
    },
    {
      "cell_type": "code",
      "source": [
        "!sudo apt update\n",
        "!sudo apt install build-essential"
      ],
      "metadata": {
        "colab": {
          "base_uri": "https://localhost:8080/"
        },
        "collapsed": true,
        "id": "jeajDg5hta-E",
        "outputId": "9cf59c0e-c27b-431f-fe4a-35f1e70517f4"
      },
      "execution_count": 57,
      "outputs": [
        {
          "output_type": "stream",
          "name": "stdout",
          "text": [
            "\u001b[33m\r0% [Working]\u001b[0m\r            \rHit:1 http://archive.ubuntu.com/ubuntu jammy InRelease\n",
            "\u001b[33m\r0% [Waiting for headers] [Connecting to security.ubuntu.com (91.189.91.82)] [Co\u001b[0m\r                                                                               \rHit:2 http://archive.ubuntu.com/ubuntu jammy-updates InRelease\n",
            "\u001b[33m\r0% [Waiting for headers] [Connecting to security.ubuntu.com (91.189.91.82)] [Wa\u001b[0m\r                                                                               \rHit:3 https://cloud.r-project.org/bin/linux/ubuntu jammy-cran40/ InRelease\n",
            "\u001b[33m\r0% [Waiting for headers] [Connecting to security.ubuntu.com (91.189.91.82)] [Co\u001b[0m\r                                                                               \rHit:4 http://archive.ubuntu.com/ubuntu jammy-backports InRelease\n",
            "\u001b[33m\r0% [Connecting to security.ubuntu.com (91.189.91.82)] [Connecting to r2u.stat.i\u001b[0m\r                                                                               \rHit:5 https://developer.download.nvidia.com/compute/cuda/repos/ubuntu2204/x86_64  InRelease\n",
            "\u001b[33m\r0% [Waiting for headers] [Connecting to r2u.stat.illinois.edu] [Connecting to p\u001b[0m\u001b[33m\r0% [Waiting for headers] [Connecting to r2u.stat.illinois.edu (192.17.190.167)]\u001b[0m\r                                                                               \rHit:6 http://security.ubuntu.com/ubuntu jammy-security InRelease\n",
            "\u001b[33m\r0% [Connecting to r2u.stat.illinois.edu (192.17.190.167)] [Waiting for headers]\u001b[0m\r                                                                               \rHit:7 https://ppa.launchpadcontent.net/deadsnakes/ppa/ubuntu jammy InRelease\n",
            "Hit:8 https://ppa.launchpadcontent.net/graphics-drivers/ppa/ubuntu jammy InRelease\n",
            "Hit:9 https://ppa.launchpadcontent.net/ubuntugis/ppa/ubuntu jammy InRelease\n",
            "Hit:10 https://r2u.stat.illinois.edu/ubuntu jammy InRelease\n",
            "Reading package lists... Done\n",
            "Building dependency tree... Done\n",
            "Reading state information... Done\n",
            "37 packages can be upgraded. Run 'apt list --upgradable' to see them.\n",
            "\u001b[1;33mW: \u001b[0mSkipping acquire of configured file 'main/source/Sources' as repository 'https://r2u.stat.illinois.edu/ubuntu jammy InRelease' does not seem to provide it (sources.list entry misspelt?)\u001b[0m\n",
            "Reading package lists... Done\n",
            "Building dependency tree... Done\n",
            "Reading state information... Done\n",
            "build-essential is already the newest version (12.9ubuntu3).\n",
            "0 upgraded, 0 newly installed, 0 to remove and 37 not upgraded.\n"
          ]
        }
      ]
    },
    {
      "cell_type": "code",
      "source": [
        "!gcc --version\n",
        "!g++ --version"
      ],
      "metadata": {
        "colab": {
          "base_uri": "https://localhost:8080/"
        },
        "collapsed": true,
        "id": "f83Tb0nEtiQI",
        "outputId": "6d9cbf00-1466-4274-d5a2-f8578c6ce08b"
      },
      "execution_count": 58,
      "outputs": [
        {
          "output_type": "stream",
          "name": "stdout",
          "text": [
            "gcc (Ubuntu 11.4.0-1ubuntu1~22.04) 11.4.0\n",
            "Copyright (C) 2021 Free Software Foundation, Inc.\n",
            "This is free software; see the source for copying conditions.  There is NO\n",
            "warranty; not even for MERCHANTABILITY or FITNESS FOR A PARTICULAR PURPOSE.\n",
            "\n",
            "g++ (Ubuntu 11.4.0-1ubuntu1~22.04) 11.4.0\n",
            "Copyright (C) 2021 Free Software Foundation, Inc.\n",
            "This is free software; see the source for copying conditions.  There is NO\n",
            "warranty; not even for MERCHANTABILITY or FITNESS FOR A PARTICULAR PURPOSE.\n",
            "\n"
          ]
        }
      ]
    },
    {
      "cell_type": "code",
      "source": [
        "!sudo apt update\n",
        "!sudo apt install flex"
      ],
      "metadata": {
        "colab": {
          "base_uri": "https://localhost:8080/"
        },
        "collapsed": true,
        "id": "W3aOolijlwyy",
        "outputId": "71a51f51-8a90-4659-a16b-a401e08f0e67"
      },
      "execution_count": 59,
      "outputs": [
        {
          "output_type": "stream",
          "name": "stdout",
          "text": [
            "\u001b[33m\r0% [Working]\u001b[0m\r            \rHit:1 http://security.ubuntu.com/ubuntu jammy-security InRelease\n",
            "\u001b[33m\r0% [Connecting to archive.ubuntu.com (91.189.91.81)] [Connected to cloud.r-proj\u001b[0m\r                                                                               \rHit:2 https://cloud.r-project.org/bin/linux/ubuntu jammy-cran40/ InRelease\n",
            "\u001b[33m\r0% [Connecting to archive.ubuntu.com (91.189.91.81)] [Connecting to r2u.stat.il\u001b[0m\r                                                                               \rHit:3 https://developer.download.nvidia.com/compute/cuda/repos/ubuntu2204/x86_64  InRelease\n",
            "\u001b[33m\r0% [Waiting for headers] [Connecting to r2u.stat.illinois.edu (192.17.190.167)]\u001b[0m\r                                                                               \rHit:4 https://ppa.launchpadcontent.net/deadsnakes/ppa/ubuntu jammy InRelease\n",
            "\u001b[33m\r0% [Waiting for headers] [Connected to r2u.stat.illinois.edu (192.17.190.167)] \u001b[0m\r                                                                               \rHit:5 https://ppa.launchpadcontent.net/graphics-drivers/ppa/ubuntu jammy InRelease\n",
            "\u001b[33m\r0% [Waiting for headers] [Connected to r2u.stat.illinois.edu (192.17.190.167)] \u001b[0m\r                                                                               \rHit:6 https://ppa.launchpadcontent.net/ubuntugis/ppa/ubuntu jammy InRelease\n",
            "Hit:7 http://archive.ubuntu.com/ubuntu jammy InRelease\n",
            "Hit:8 http://archive.ubuntu.com/ubuntu jammy-updates InRelease\n",
            "Hit:9 http://archive.ubuntu.com/ubuntu jammy-backports InRelease\n",
            "Hit:10 https://r2u.stat.illinois.edu/ubuntu jammy InRelease\n",
            "Reading package lists... Done\n",
            "Building dependency tree... Done\n",
            "Reading state information... Done\n",
            "37 packages can be upgraded. Run 'apt list --upgradable' to see them.\n",
            "\u001b[1;33mW: \u001b[0mSkipping acquire of configured file 'main/source/Sources' as repository 'https://r2u.stat.illinois.edu/ubuntu jammy InRelease' does not seem to provide it (sources.list entry misspelt?)\u001b[0m\n",
            "Reading package lists... Done\n",
            "Building dependency tree... Done\n",
            "Reading state information... Done\n",
            "flex is already the newest version (2.6.4-8build2).\n",
            "0 upgraded, 0 newly installed, 0 to remove and 37 not upgraded.\n"
          ]
        }
      ]
    },
    {
      "cell_type": "code",
      "source": [
        "!sudo apt update\n",
        "!sudo apt install flex bison gcc -y"
      ],
      "metadata": {
        "colab": {
          "base_uri": "https://localhost:8080/"
        },
        "collapsed": true,
        "outputId": "32517b25-b637-4a38-fd24-1e77fe83727b",
        "id": "0wJ_5XecmqvZ"
      },
      "execution_count": 60,
      "outputs": [
        {
          "output_type": "stream",
          "name": "stdout",
          "text": [
            "\u001b[33m\r0% [Working]\u001b[0m\r            \rHit:1 https://developer.download.nvidia.com/compute/cuda/repos/ubuntu2204/x86_64  InRelease\n",
            "\u001b[33m\r0% [Connecting to archive.ubuntu.com (91.189.91.81)] [Connecting to security.ub\u001b[0m\r                                                                               \rHit:2 https://cloud.r-project.org/bin/linux/ubuntu jammy-cran40/ InRelease\n",
            "\u001b[33m\r0% [Connecting to archive.ubuntu.com (91.189.91.81)] [Connecting to security.ub\u001b[0m\u001b[33m\r0% [Waiting for headers] [Waiting for headers] [Connecting to r2u.stat.illinois\u001b[0m\r                                                                               \rHit:3 https://ppa.launchpadcontent.net/deadsnakes/ppa/ubuntu jammy InRelease\n",
            "\u001b[33m\r0% [Waiting for headers] [Waiting for headers] [Connected to r2u.stat.illinois.\u001b[0m\r                                                                               \rHit:4 https://ppa.launchpadcontent.net/graphics-drivers/ppa/ubuntu jammy InRelease\n",
            "\u001b[33m\r0% [Waiting for headers] [Waiting for headers] [Connected to r2u.stat.illinois.\u001b[0m\r                                                                               \rHit:5 https://ppa.launchpadcontent.net/ubuntugis/ppa/ubuntu jammy InRelease\n",
            "\u001b[33m\r0% [Waiting for headers] [Waiting for headers] [Connected to r2u.stat.illinois.\u001b[0m\r                                                                               \rHit:6 http://archive.ubuntu.com/ubuntu jammy InRelease\n",
            "Hit:7 http://security.ubuntu.com/ubuntu jammy-security InRelease\n",
            "Hit:8 http://archive.ubuntu.com/ubuntu jammy-updates InRelease\n",
            "Hit:9 http://archive.ubuntu.com/ubuntu jammy-backports InRelease\n",
            "Hit:10 https://r2u.stat.illinois.edu/ubuntu jammy InRelease\n",
            "Reading package lists... Done\n",
            "Building dependency tree... Done\n",
            "Reading state information... Done\n",
            "37 packages can be upgraded. Run 'apt list --upgradable' to see them.\n",
            "\u001b[1;33mW: \u001b[0mSkipping acquire of configured file 'main/source/Sources' as repository 'https://r2u.stat.illinois.edu/ubuntu jammy InRelease' does not seem to provide it (sources.list entry misspelt?)\u001b[0m\n",
            "Reading package lists... Done\n",
            "Building dependency tree... Done\n",
            "Reading state information... Done\n",
            "bison is already the newest version (2:3.8.2+dfsg-1build1).\n",
            "flex is already the newest version (2.6.4-8build2).\n",
            "gcc is already the newest version (4:11.2.0-1ubuntu1).\n",
            "0 upgraded, 0 newly installed, 0 to remove and 37 not upgraded.\n"
          ]
        }
      ]
    },
    {
      "cell_type": "code",
      "source": [
        "!sudo apt install flex"
      ],
      "metadata": {
        "colab": {
          "base_uri": "https://localhost:8080/"
        },
        "collapsed": true,
        "id": "25zAk7wsulDG",
        "outputId": "9a908211-fd03-494e-faea-e65178d5ffb0"
      },
      "execution_count": 66,
      "outputs": [
        {
          "output_type": "stream",
          "name": "stdout",
          "text": [
            "Reading package lists... Done\n",
            "Building dependency tree... Done\n",
            "Reading state information... Done\n",
            "flex is already the newest version (2.6.4-8build2).\n",
            "0 upgraded, 0 newly installed, 0 to remove and 37 not upgraded.\n"
          ]
        }
      ]
    },
    {
      "cell_type": "code",
      "source": [
        "%%file exercise1.l\n",
        "\n",
        "%{\n",
        "#include <stdio.h>\n",
        "int charCount = 0;\n",
        "int wordCount = 0;\n",
        "int spaceCount = 0;\n",
        "int lineCount = 0;\n",
        "%}\n",
        "\n",
        "%option noyywrap\n",
        "\n",
        "%%\n",
        "\\n       { lineCount++; charCount++; }   /* Newlines - most specific */\n",
        "[ \\t]    { spaceCount++; charCount++; } /* Spaces/tabs */\n",
        "[^ \\t\\n]+ { wordCount++; charCount += yyleng; } /* Words - least specific */\n",
        ".        { charCount++; }               /* Catch-all for other single chars */\n",
        "%%\n",
        "\n",
        "int main(int argc, char *argv[]) {\n",
        "    if (argc > 1) {\n",
        "        FILE *file = fopen(argv[1], \"r\");\n",
        "        if (!file) {\n",
        "            fprintf(stderr, \"Could not open %s\\n\", argv[1]);\n",
        "            return 1;\n",
        "        }\n",
        "        yyin = file;\n",
        "    } else {\n",
        "        yyin = stdin;\n",
        "    }\n",
        "\n",
        "    yylex();\n",
        "\n",
        "    if (argc > 1) {\n",
        "        fclose(yyin);\n",
        "    }\n",
        "\n",
        "    printf(\"Character count: %d\\n\", charCount);\n",
        "    printf(\"Word count: %d\\n\", wordCount);\n",
        "    printf(\"Space count: %d\\n\", spaceCount);\n",
        "    printf(\"Line count: %d\\n\", lineCount);\n",
        "\n",
        "    return 0;\n",
        "}"
      ],
      "metadata": {
        "colab": {
          "base_uri": "https://localhost:8080/"
        },
        "id": "KIUjrm9C-PSL",
        "outputId": "0619ba02-2896-4770-e407-fc4746f9d924"
      },
      "execution_count": 124,
      "outputs": [
        {
          "output_type": "stream",
          "name": "stdout",
          "text": [
            "Overwriting exercise1.l\n"
          ]
        }
      ]
    },
    {
      "cell_type": "code",
      "source": [
        "!flex exercise1.l\n",
        "!gcc lex.yy.c -o exercise1 -ll"
      ],
      "metadata": {
        "colab": {
          "base_uri": "https://localhost:8080/"
        },
        "id": "OoCnRzaMvbPk",
        "outputId": "06899b9e-572c-433b-e206-0c96078badc9"
      },
      "execution_count": 126,
      "outputs": [
        {
          "output_type": "stream",
          "name": "stdout",
          "text": [
            "exercise1.l:16: warning, rule cannot be matched\n"
          ]
        }
      ]
    },
    {
      "cell_type": "code",
      "source": [
        "\n",
        "!echo \"hello every\" | ./exercise1   # Read from stdin"
      ],
      "metadata": {
        "colab": {
          "base_uri": "https://localhost:8080/"
        },
        "id": "WXe7m_-RynRt",
        "outputId": "7868823e-b31d-4c39-db6d-5442f617156d"
      },
      "execution_count": 127,
      "outputs": [
        {
          "output_type": "stream",
          "name": "stdout",
          "text": [
            "Character count: 12\n",
            "Word count: 2\n",
            "Space count: 1\n",
            "Line count: 1\n"
          ]
        }
      ]
    },
    {
      "cell_type": "code",
      "source": [
        "%%file exercise2.l\n",
        "%{\n",
        "    #include <stdio.h>\n",
        "    #include <string.h>\n",
        "    #include <stdbool.h>\n",
        "\n",
        "    bool isValid = true;\n",
        "    void validateEmail();\n",
        "%}\n",
        "\n",
        "%%\n",
        "^[a-zA-Z0-9._%+-]+@[a-zA-Z0-9.-]+\\.[a-zA-Z]{2,}$   {\n",
        "    printf(\"Valid Email: %s\\n\", yytext);\n",
        "    isValid = true;\n",
        "}\n",
        "\n",
        "^.*$   {\n",
        "    if (!isValid) {\n",
        "        printf(\"Invalid Email: %s\\n\", yytext);\n",
        "    }\n",
        "    isValid = false;\n",
        "    yyterminate();\n",
        "}\n",
        "%%\n",
        "\n",
        "int main() {\n",
        "    printf(\"Enter an email address: \");\n",
        "    yylex();\n",
        "    return 0;\n",
        "}\n",
        "\n",
        "int yywrap() {\n",
        "    return 1;\n",
        "}"
      ],
      "metadata": {
        "colab": {
          "base_uri": "https://localhost:8080/"
        },
        "id": "KVsZGA8nDXyD",
        "outputId": "f0b94d56-224d-4fd6-e11c-2836dd82c813"
      },
      "execution_count": 128,
      "outputs": [
        {
          "output_type": "stream",
          "name": "stdout",
          "text": [
            "Writing exercise2.l\n"
          ]
        }
      ]
    },
    {
      "cell_type": "code",
      "source": [
        "!flex exercise2.l"
      ],
      "metadata": {
        "id": "69IJtNOIGmZ-"
      },
      "execution_count": 129,
      "outputs": []
    },
    {
      "cell_type": "code",
      "source": [
        "!gcc lex.yy.c -o email_validator -lfl"
      ],
      "metadata": {
        "id": "9N-9RWlRHDgy"
      },
      "execution_count": 130,
      "outputs": []
    },
    {
      "cell_type": "code",
      "source": [
        "!echo \"test@example.com\" | ./email_validator\n",
        "!echo \"invalid_email\" | ./email_validator"
      ],
      "metadata": {
        "colab": {
          "base_uri": "https://localhost:8080/"
        },
        "id": "U0heNubKHJN0",
        "outputId": "3abb71c2-4ae4-4670-b8d9-1f541a2fa46b"
      },
      "execution_count": 131,
      "outputs": [
        {
          "output_type": "stream",
          "name": "stdout",
          "text": [
            "Enter an email address: Valid Email: test@example.com\n",
            "\n",
            "Enter an email address: "
          ]
        }
      ]
    },
    {
      "cell_type": "code",
      "source": [
        "%%file exercise3.l\n",
        "\n",
        "%{\n",
        "#include <stdio.h>\n",
        "#include <stdbool.h>\n",
        "#include <string.h>\n",
        "#include <ctype.h>\n",
        "\n",
        "bool isValid = false;\n",
        "void checkPasswordRules(const char *password);\n",
        "%}\n",
        "\n",
        "%%\n",
        "^.+$ {\n",
        "    checkPasswordRules(yytext);\n",
        "    if (isValid) {\n",
        "        printf(\"Valid Password: %s\\n\", yytext);\n",
        "    } else {\n",
        "        printf(\"Invalid Password: %s\\n\", yytext);\n",
        "    }\n",
        "    yyterminate();\n",
        "}\n",
        "%%\n",
        "\n",
        "void checkPasswordRules(const char *password) {\n",
        "    int length = strlen(password);\n",
        "    bool hasUpper = false, hasLower = false, hasDigit = false, hasSpecial = false;\n",
        "\n",
        "    if (length < 8) {\n",
        "        isValid = false;\n",
        "        return;\n",
        "    }\n",
        "\n",
        "    for (int i = 0; i < length; i++) {\n",
        "        if (isupper(password[i])) hasUpper = true;\n",
        "        else if (islower(password[i])) hasLower = true;\n",
        "        else if (isdigit(password[i])) hasDigit = true;\n",
        "        else if (strchr(\"!@#$%^&*\", password[i])) hasSpecial = true;\n",
        "    }\n",
        "\n",
        "    isValid = (hasUpper && hasLower && hasDigit && hasSpecial);\n",
        "}\n",
        "\n",
        "int main() {\n",
        "    printf(\"Enter a password: \");\n",
        "    yylex();\n",
        "    return 0;\n",
        "}\n",
        "\n",
        "int yywrap() {\n",
        "    return 1;\n",
        "}"
      ],
      "metadata": {
        "colab": {
          "base_uri": "https://localhost:8080/"
        },
        "id": "XLtfpOFeHqC5",
        "outputId": "37ed4289-251e-427c-fac9-11158b42eb8f"
      },
      "execution_count": 132,
      "outputs": [
        {
          "output_type": "stream",
          "name": "stdout",
          "text": [
            "Writing exercise3.l\n"
          ]
        }
      ]
    },
    {
      "cell_type": "code",
      "source": [
        "!flex exercise3.l\n",
        "!gcc lex.yy.c -o password_validator -lfl"
      ],
      "metadata": {
        "id": "qO9oA5o6IAyz"
      },
      "execution_count": 133,
      "outputs": []
    },
    {
      "cell_type": "code",
      "source": [
        "!echo \"StrongP@ss1\" | ./password_validator    # Valid\n",
        "!echo \"weakpass\" | ./password_validator       # Invalid"
      ],
      "metadata": {
        "colab": {
          "base_uri": "https://localhost:8080/"
        },
        "id": "GP2jlp5lIJIT",
        "outputId": "1dcab763-7913-42d8-aa2e-1f6943778d91"
      },
      "execution_count": 134,
      "outputs": [
        {
          "output_type": "stream",
          "name": "stdout",
          "text": [
            "Enter a password: Valid Password: StrongP@ss1\n",
            "Enter a password: Invalid Password: weakpass\n"
          ]
        }
      ]
    },
    {
      "cell_type": "code",
      "source": [
        "%%file exercise4.l\n",
        "%{\n",
        "#include <stdio.h>\n",
        "#include <stdlib.h>\n",
        "#include <ctype.h>\n",
        "\n",
        "int current_value = 0;\n",
        "char current_op = '+';\n",
        "int result = 0;\n",
        "%}\n",
        "\n",
        "%option noyywrap\n",
        "\n",
        "%%\n",
        "[0-9]+    {\n",
        "            int num = atoi(yytext);\n",
        "            switch(current_op) {\n",
        "                case '+': result += num; break;\n",
        "                case '-': result -= num; break;\n",
        "                case '*': result *= num; break;\n",
        "                case '/':\n",
        "                    if (num == 0) {\n",
        "                        fprintf(stderr, \"Error: Division by zero\\n\");\n",
        "                        return 0;\n",
        "                    }\n",
        "                    result /= num;\n",
        "                    break;\n",
        "            }\n",
        "            current_value = num;\n",
        "          }\n",
        "\n",
        "\"+\"       { current_op = '+'; }\n",
        "\"-\"       { current_op = '-'; }\n",
        "\"*\"       { current_op = '*'; }\n",
        "\"/\"       { current_op = '/'; }\n",
        "\n",
        "\\n        { printf(\"= %d\\n\", result); result = 0; current_op = '+'; return 0; }\n",
        "[ \\t]     ; /* Ignore whitespace */\n",
        ".         { fprintf(stderr, \"Error: Invalid character '%s'\\n\", yytext); }\n",
        "%%\n",
        "\n",
        "int main() {\n",
        "    printf(\"Simple Lex Calculator\\n\");\n",
        "    printf(\"Enter expressions like: 2 + 3 * 4\\n\");\n",
        "    printf(\"Note: Evaluates left-to-right (no operator precedence)\\n\");\n",
        "    printf(\"Press Enter to calculate, Ctrl+D to exit\\n\");\n",
        "\n",
        "    while (yylex() != 0) {\n",
        "        // Continue processing until EOF\n",
        "    }\n",
        "    return 0;\n",
        "}"
      ],
      "metadata": {
        "colab": {
          "base_uri": "https://localhost:8080/"
        },
        "id": "fSjtIHQpKoy4",
        "outputId": "6528b1c0-d8ce-40b7-9570-01503d209a6a"
      },
      "execution_count": 151,
      "outputs": [
        {
          "output_type": "stream",
          "name": "stdout",
          "text": [
            "Overwriting exercise4.l\n"
          ]
        }
      ]
    },
    {
      "cell_type": "code",
      "source": [
        "!flex exercise4.l\n",
        "!gcc lex.yy.c -o exercise4 -lfl"
      ],
      "metadata": {
        "id": "w3ztUM8sLZpR"
      },
      "execution_count": 152,
      "outputs": []
    },
    {
      "cell_type": "code",
      "source": [
        "!./exercise4"
      ],
      "metadata": {
        "colab": {
          "base_uri": "https://localhost:8080/"
        },
        "id": "fJcO-2CYLnEw",
        "outputId": "f6e3224f-0361-4d14-a310-900cba8a2527"
      },
      "execution_count": 153,
      "outputs": [
        {
          "output_type": "stream",
          "name": "stdout",
          "text": [
            "Simple Lex Calculator\n",
            "Enter expressions like: 2 + 3 * 4\n",
            "Note: Evaluates left-to-right (no operator precedence)\n",
            "Press Enter to calculate, Ctrl+D to exit\n",
            "3+4\n",
            "= 7\n"
          ]
        }
      ]
    },
    {
      "cell_type": "code",
      "source": [
        "2 + 3 * (4 - 1)"
      ],
      "metadata": {
        "colab": {
          "base_uri": "https://localhost:8080/"
        },
        "id": "Aoc7CdgWLrGy",
        "outputId": "364712f2-5356-4989-ae84-5cb7cce78ffb"
      },
      "execution_count": 93,
      "outputs": [
        {
          "output_type": "execute_result",
          "data": {
            "text/plain": [
              "11"
            ]
          },
          "metadata": {},
          "execution_count": 93
        }
      ]
    },
    {
      "cell_type": "code",
      "source": [
        "%%file exercise5.l\n",
        "%{\n",
        "#include <stdio.h>\n",
        "#include <stdbool.h>\n",
        "#include <string.h>\n",
        "\n",
        "bool isValidURL = false;\n",
        "void validateURL(const char *url);\n",
        "%}\n",
        "\n",
        "%%\n",
        "^((http|https|ftp):\\/\\/)?([a-zA-Z0-9_-]+\\.)+[a-zA-Z]{2,}(:[0-9]+)?(\\/[a-zA-Z0-9_\\/-]*)*(\\?[a-zA-Z0-9_=&-]*)?$ {\n",
        "    printf(\"Valid URL: %s\\n\", yytext);\n",
        "    isValidURL = true;\n",
        "    yyterminate();\n",
        "}\n",
        "\n",
        "^.*$ {\n",
        "    if (!isValidURL) {\n",
        "        printf(\"Invalid URL: %s\\n\", yytext);\n",
        "    }\n",
        "    yyterminate();\n",
        "}\n",
        "%%\n",
        "\n",
        "void validateURL(const char *url) {\n",
        "    // Additional validation logic can be added here if needed\n",
        "}\n",
        "\n",
        "int main() {\n",
        "    printf(\"Enter a URL to validate: \");\n",
        "    yylex();\n",
        "    return 0;\n",
        "}\n",
        "\n",
        "int yywrap() {\n",
        "    return 1;\n",
        "}"
      ],
      "metadata": {
        "colab": {
          "base_uri": "https://localhost:8080/"
        },
        "id": "4ZaQ7_KAMTJC",
        "outputId": "fb9c300a-12a0-4bbb-f78f-ffdf88ae97dd"
      },
      "execution_count": 154,
      "outputs": [
        {
          "output_type": "stream",
          "name": "stdout",
          "text": [
            "Writing exercise5.l\n"
          ]
        }
      ]
    },
    {
      "cell_type": "code",
      "source": [
        "!flex exercise5.l\n",
        "!gcc lex.yy.c -o exercise5 -lfl"
      ],
      "metadata": {
        "id": "7W-Mu6-yPEge"
      },
      "execution_count": 155,
      "outputs": []
    },
    {
      "cell_type": "code",
      "source": [
        "!echo \"https://www.google.com/search?q=lex\" | ./exercise5    # Valid\n",
        "!echo \"http://invalid url\" | ./exercise5                    # Invalid"
      ],
      "metadata": {
        "colab": {
          "base_uri": "https://localhost:8080/"
        },
        "id": "uObe94xSPMSX",
        "outputId": "1be0276f-e286-45d9-c317-59fb141733f6"
      },
      "execution_count": 156,
      "outputs": [
        {
          "output_type": "stream",
          "name": "stdout",
          "text": [
            "Enter a URL to validate: Valid URL: https://www.google.com/search?q=lex\n",
            "Enter a URL to validate: Invalid URL: http://invalid url\n"
          ]
        }
      ]
    },
    {
      "cell_type": "code",
      "source": [
        "%%file exercise6.l\n",
        "\n",
        "%{\n",
        "#include <stdio.h>\n",
        "#include <stdbool.h>\n",
        "#include <string.h>\n",
        "#include <ctype.h>\n",
        "\n",
        "bool isValidID = false;\n",
        "%}\n",
        "\n",
        "%%\n",
        "^WDU[0-9]{6}$ {\n",
        "    printf(\"Valid Woldia University Student ID: %s\\n\", yytext);\n",
        "    isValidID = true;\n",
        "    yyterminate();\n",
        "}\n",
        "\n",
        "^.*$ {\n",
        "    if (!isValidID) {\n",
        "        printf(\"Invalid Student ID: %s\\n\", yytext);\n",
        "        printf(\"Expected format: WDU followed by 6 digits (e.g., WDU202315)\\n\");\n",
        "        printf(\"Total length should be 9 characters\\n\");\n",
        "    }\n",
        "    yyterminate();\n",
        "}\n",
        "%%\n",
        "\n",
        "int main() {\n",
        "    printf(\"Enter Woldia University Student ID to validate: \");\n",
        "    yylex();\n",
        "    return 0;\n",
        "}\n",
        "\n",
        "int yywrap() {\n",
        "    return 1;\n",
        "}"
      ],
      "metadata": {
        "colab": {
          "base_uri": "https://localhost:8080/"
        },
        "id": "O5x6koqmP4rM",
        "outputId": "29c949df-f1cc-47bb-a76c-28efed2f5459"
      },
      "execution_count": 157,
      "outputs": [
        {
          "output_type": "stream",
          "name": "stdout",
          "text": [
            "Writing exercise6.l\n"
          ]
        }
      ]
    },
    {
      "cell_type": "code",
      "source": [
        "!flex exercise6.l\n",
        "!gcc lex.yy.c -o exercise6 -lfl"
      ],
      "metadata": {
        "id": "jhMmrlCmR8o4"
      },
      "execution_count": 158,
      "outputs": []
    },
    {
      "cell_type": "code",
      "source": [
        "!echo \"WDU202315\" | ./exercise6    # Valid\n",
        "!echo \"wdu202315\" | ./exercise6    # Invalid (lowercase)\n",
        "!echo \"WDU20231\" | ./exercise6     # Invalid (too short)\n",
        "!echo \"WDU2023156\" | ./exercise6   # Invalid (too long)\n",
        "!echo \"WDUABCDEF\" | ./exercise6    # Invalid (non-digits)"
      ],
      "metadata": {
        "colab": {
          "base_uri": "https://localhost:8080/"
        },
        "id": "y08hmWpMTB9w",
        "outputId": "7c376340-cb19-4909-9498-6d3f1090c555"
      },
      "execution_count": 159,
      "outputs": [
        {
          "output_type": "stream",
          "name": "stdout",
          "text": [
            "Enter Woldia University Student ID to validate: Valid Woldia University Student ID: WDU202315\n",
            "Enter Woldia University Student ID to validate: Invalid Student ID: wdu202315\n",
            "Expected format: WDU followed by 6 digits (e.g., WDU202315)\n",
            "Total length should be 9 characters\n",
            "Enter Woldia University Student ID to validate: Invalid Student ID: WDU20231\n",
            "Expected format: WDU followed by 6 digits (e.g., WDU202315)\n",
            "Total length should be 9 characters\n",
            "Enter Woldia University Student ID to validate: Invalid Student ID: WDU2023156\n",
            "Expected format: WDU followed by 6 digits (e.g., WDU202315)\n",
            "Total length should be 9 characters\n",
            "Enter Woldia University Student ID to validate: Invalid Student ID: WDUABCDEF\n",
            "Expected format: WDU followed by 6 digits (e.g., WDU202315)\n",
            "Total length should be 9 characters\n"
          ]
        }
      ]
    },
    {
      "cell_type": "code",
      "source": [
        "%%file exercise7.l\n",
        "\n",
        "%{\n",
        "#include <stdio.h>\n",
        "#include <stdlib.h>\n",
        "#include <locale.h>\n",
        "#include <wchar.h>\n",
        "#include <string.h>\n",
        "\n",
        "void detect_script(const char *text);\n",
        "int is_amharic(const char *text);\n",
        "int is_chinese(const char *text);\n",
        "int is_arabic(const char *text);\n",
        "int is_devanagari(const char *text);\n",
        "%}\n",
        "\n",
        "%option noyywrap\n",
        "\n",
        "%%\n",
        "[^\\x00-\\x7F]+    { detect_script(yytext); }\n",
        "[a-zA-Z]+        { printf(\"Recognized Latin script: %s\\n\", yytext); }\n",
        ".|\\n             ; /* Ignore other characters */\n",
        "%%\n",
        "\n",
        "int is_amharic(const char *text) {\n",
        "    // Ethiopic Unicode range: U+1200 to U+137F\n",
        "    unsigned char c = text[0];\n",
        "    return (c >= 0xE1 && c <= 0xE3) &&\n",
        "           (text[1] >= 0x80 && text[1] <= 0xBF);\n",
        "}\n",
        "\n",
        "int is_chinese(const char *text) {\n",
        "    // Basic CJK Unified Ideographs range\n",
        "    return (text[0] >= 0xE4 && text[0] <= 0xE9);\n",
        "}\n",
        "\n",
        "int is_arabic(const char *text) {\n",
        "    // Arabic Unicode range\n",
        "    return (text[0] >= 0xD8 && text[0] <= 0xDB);\n",
        "}\n",
        "\n",
        "int is_devanagari(const char *text) {\n",
        "    // Devanagari Unicode range\n",
        "    return (text[0] == 0xE0) &&\n",
        "           (text[1] >= 0xA4 && text[1] <= 0xBF);\n",
        "}\n",
        "\n",
        "void detect_script(const char *text) {\n",
        "    setlocale(LC_ALL, \"en_US.UTF-8\");\n",
        "\n",
        "    if (is_chinese(text)) {\n",
        "        printf(\"Recognized Chinese script: %s\\n\", text);\n",
        "    }\n",
        "    else if (is_arabic(text)) {\n",
        "        printf(\"Recognized Arabic script: %s\\n\", text);\n",
        "    }\n",
        "    else if (is_devanagari(text)) {\n",
        "        printf(\"Recognized Devanagari script: %s\\n\", text);\n",
        "    }\n",
        "    else if (is_amharic(text)) {\n",
        "        printf(\"Recognized Amharic (Ge'ez) script: %s\\n\", text);\n",
        "    }\n",
        "    else {\n",
        "        printf(\"Recognized non-Latin script: %s\\n\", text);\n",
        "    }\n",
        "}\n",
        "\n",
        "int main() {\n",
        "    setlocale(LC_ALL, \"en_US.UTF-8\");\n",
        "    printf(\"Enter text with mixed scripts (Ctrl+D to end):\\n\");\n",
        "    printf(\"Supported scripts:\\n\");\n",
        "    printf(\"- Chinese\\n- Arabic\\n- Devanagari\\n- Amharic\\n- Latin\\n\\n\");\n",
        "    yylex();\n",
        "    return 0;\n",
        "}"
      ],
      "metadata": {
        "colab": {
          "base_uri": "https://localhost:8080/"
        },
        "id": "9j0HysClWN3H",
        "outputId": "cf584a0d-3909-4a58-a12e-d4b07ddab2d4"
      },
      "execution_count": 193,
      "outputs": [
        {
          "output_type": "stream",
          "name": "stdout",
          "text": [
            "Overwriting exercise7.l\n"
          ]
        }
      ]
    },
    {
      "cell_type": "code",
      "source": [
        "!flex exercise7.l\n",
        "!gcc lex.yy.c -o exercise7 -lfl"
      ],
      "metadata": {
        "id": "A8LfPI70WpPD"
      },
      "execution_count": 194,
      "outputs": []
    },
    {
      "cell_type": "code",
      "source": [
        "!echo \"Café ካፌ\" | ./exercise7"
      ],
      "metadata": {
        "colab": {
          "base_uri": "https://localhost:8080/"
        },
        "id": "jwllCkqQhPFl",
        "outputId": "55cc199b-be6b-4bb3-9c0c-4ff612a1bb9b"
      },
      "execution_count": 195,
      "outputs": [
        {
          "output_type": "stream",
          "name": "stdout",
          "text": [
            "Enter text with mixed scripts (Ctrl+D to end):\n",
            "Supported scripts:\n",
            "- Chinese\n",
            "- Arabic\n",
            "- Devanagari\n",
            "- Amharic\n",
            "- Latin\n",
            "\n",
            "Recognized Latin script: Caf\n",
            "Recognized non-Latin script: é\n",
            "Recognized non-Latin script: ካፌ\n"
          ]
        }
      ]
    },
    {
      "cell_type": "code",
      "source": [
        "%%file exercise8.l\n",
        "%{\n",
        "#include <stdio.h>\n",
        "#include <locale.h>\n",
        "#include <wchar.h>\n",
        "#include <stdlib.h>\n",
        "\n",
        "void print_amharic(const char *text, const char *meaning);\n",
        "%}\n",
        "\n",
        "%option noyywrap\n",
        "\n",
        "%%\n",
        "ሳድስ      { print_amharic(\"ሳድስ\", \"Six (6th order)\"); }\n",
        "ራብዕ      { print_amharic(\"ራብዕ\", \"Four (4th order)\"); }\n",
        "ሳልስ      { print_amharic(\"ሳልስ\", \"Three (3rd order)\"); }\n",
        "ሰስት      { print_amharic(\"ሰስት\", \"Two (2nd order)\"); }\n",
        "[ሀ-ፕ]     { print_amharic(yytext, \"Fidel\"); }\n",
        ".|\\n      ; /* Ignore other characters */\n",
        "%%\n",
        "\n",
        "void print_amharic(const char *text, const char *meaning) {\n",
        "    printf(\"Recognized: %s (%s)\\n\", text, meaning);\n",
        "}\n",
        "\n",
        "int main() {\n",
        "    setlocale(LC_ALL, \"en_US.UTF-8\");\n",
        "    printf(\"Enter Amharic/Fidel characters to recognize:\\n\");\n",
        "    printf(\"Example: ሳድስ ራብዕ ሳልስ ሰስት\\n\");\n",
        "    yylex();\n",
        "    return 0;\n",
        "}"
      ],
      "metadata": {
        "colab": {
          "base_uri": "https://localhost:8080/"
        },
        "id": "ahJ7xXPljCHt",
        "outputId": "9267c5c3-a053-4078-9ec9-4b145a30458e"
      },
      "execution_count": 180,
      "outputs": [
        {
          "output_type": "stream",
          "name": "stdout",
          "text": [
            "Overwriting exercise8.l\n"
          ]
        }
      ]
    },
    {
      "cell_type": "code",
      "source": [
        "!flex exercise8.l\n",
        "!gcc lex.yy.c -o exercise8 -lfl"
      ],
      "metadata": {
        "id": "EWHhgthpjSuA"
      },
      "execution_count": 181,
      "outputs": []
    },
    {
      "cell_type": "code",
      "source": [
        "!echo \"ሳድስ ራብዕ ሳልስ ሰስት ሰ\" | ./exercise8"
      ],
      "metadata": {
        "colab": {
          "base_uri": "https://localhost:8080/"
        },
        "id": "t_Bulc8g-XPR",
        "outputId": "502d2696-4c60-472e-dcc7-25f3c15b89d8"
      },
      "execution_count": 184,
      "outputs": [
        {
          "output_type": "stream",
          "name": "stdout",
          "text": [
            "Enter Amharic/Fidel characters to recognize:\n",
            "Example: ሳድስ ራብዕ ሳልስ ሰስት\n",
            "Recognized: ሳድስ (Six (6th order))\n",
            "Recognized: ራብዕ (Four (4th order))\n",
            "Recognized: ሳልስ (Three (3rd order))\n",
            "Recognized: ሰስት (Two (2nd order))\n",
            "Recognized: � (Fidel)\n",
            "Recognized: � (Fidel)\n",
            "Recognized: � (Fidel)\n"
          ]
        }
      ]
    },
    {
      "cell_type": "code",
      "source": [
        "%%file exercise9.l\n",
        "\n",
        "%{\n",
        "#include <stdio.h>\n",
        "#include <wchar.h>\n",
        "#include <locale.h>\n",
        "#include <stdlib.h>\n",
        "#include <ctype.h>\n",
        "#include <wctype.h>\n",
        "\n",
        "int max_len = 0;\n",
        "int current_len = 0;\n",
        "\n",
        "int is_letter(wchar_t c);\n",
        "%}\n",
        "\n",
        "%option noyywrap\n",
        "\n",
        "%%\n",
        "\n",
        "[^ \\t\\n]+ {\n",
        "    char *p = yytext;\n",
        "    int char_count = 0;\n",
        "    wchar_t wc;\n",
        "    int in_word = 0;\n",
        "\n",
        "    while (*p) {\n",
        "        int bytes = mbtowc(&wc, p, MB_CUR_MAX);\n",
        "        if (bytes <= 0) break;\n",
        "\n",
        "        if (is_letter(wc)) {\n",
        "            char_count++;\n",
        "            in_word = 1;\n",
        "        } else if (wc == '\\'' && in_word) {\n",
        "            char_count++;\n",
        "        } else if (in_word) {\n",
        "            if (char_count > max_len) {\n",
        "                max_len = char_count;\n",
        "            }\n",
        "            char_count = 0;\n",
        "            in_word = 0;\n",
        "        }\n",
        "        p += bytes;\n",
        "    }\n",
        "\n",
        "    if (char_count > max_len) {\n",
        "        max_len = char_count;\n",
        "    }\n",
        "}\n",
        "\n",
        ".|\\n { /* Ignore */ }\n",
        "\n",
        "%%\n",
        "\n",
        "int is_letter(wchar_t c) {\n",
        "    return iswalpha(c) || (c >= 0x1200 && c <= 0x137F);\n",
        "}\n",
        "\n",
        "int main() {\n",
        "    setlocale(LC_ALL, \"en_US.UTF-8\");\n",
        "    printf(\"Enter text in any language (Ctrl+D to end):\\n\");\n",
        "    yylex();\n",
        "    printf(\"Length of longest word is: %d\\n\", max_len);\n",
        "    return 0;\n",
        "}"
      ],
      "metadata": {
        "colab": {
          "base_uri": "https://localhost:8080/"
        },
        "id": "_2_Qovf8kyL8",
        "outputId": "67114efe-852a-4010-8c77-11bb178f943c"
      },
      "execution_count": 185,
      "outputs": [
        {
          "output_type": "stream",
          "name": "stdout",
          "text": [
            "Writing exercise9.l\n"
          ]
        }
      ]
    },
    {
      "cell_type": "code",
      "source": [
        "!flex exercise9.l\n",
        "!gcc lex.yy.c -o exercise9 -lfl"
      ],
      "metadata": {
        "id": "J_K9TG1ElBt0"
      },
      "execution_count": 186,
      "outputs": []
    },
    {
      "cell_type": "code",
      "source": [
        "!echo \"Hello አማርኛertuy привет\" | ./exercise9"
      ],
      "metadata": {
        "colab": {
          "base_uri": "https://localhost:8080/"
        },
        "id": "RXi3VFpInhFT",
        "outputId": "a66bf6ef-ed3c-45ca-d1ef-dd5ee38a2814"
      },
      "execution_count": 187,
      "outputs": [
        {
          "output_type": "stream",
          "name": "stdout",
          "text": [
            "Enter text in any language (Ctrl+D to end):\n",
            "Length of longest word is: 9\n"
          ]
        }
      ]
    },
    {
      "cell_type": "code",
      "source": [
        "%%file exercise10.l\n",
        "\n",
        "%{\n",
        "#include <stdio.h>\n",
        "int positive_count = 0;\n",
        "int negative_count = 0;\n",
        "int zero_count = 0;\n",
        "%}\n",
        "\n",
        "%option noyywrap\n",
        "\n",
        "DIGIT    [0-9]\n",
        "INTEGER  {DIGIT}+\n",
        "DECIMAL  {INTEGER}\".\"{INTEGER}|\".\"{INTEGER}\n",
        "POSITIVE [1-9]{DIGIT}*|\"+\"([1-9]{DIGIT}*|{DECIMAL})|{DECIMAL}\n",
        "NEGATIVE \"-\"({INTEGER}|{DECIMAL})\n",
        "ZERO     [+-]?0(\\.0*)?\n",
        "\n",
        "%%\n",
        "\n",
        "{POSITIVE}  { positive_count++; printf(\"Positive: %s\\n\", yytext); }\n",
        "{NEGATIVE}  { negative_count++; printf(\"Negative: %s\\n\", yytext); }\n",
        "{ZERO}      { zero_count++; printf(\"Zero: %s\\n\", yytext); }\n",
        "[ \\t\\n]     /* skip whitespace */\n",
        ".           /* skip other characters */\n",
        "\n",
        "%%\n",
        "\n",
        "int main() {\n",
        "    printf(\"Enter numbers to analyze (Ctrl+D to end):\\n\");\n",
        "    yylex();\n",
        "    printf(\"\\nCounts:\\n\");\n",
        "    printf(\"Positive numbers: %d\\n\", positive_count);\n",
        "    printf(\"Negative numbers: %d\\n\", negative_count);\n",
        "    printf(\"Zero values: %d\\n\", zero_count);\n",
        "    return 0;\n",
        "}"
      ],
      "metadata": {
        "colab": {
          "base_uri": "https://localhost:8080/"
        },
        "id": "IhB8L2FOo93W",
        "outputId": "9d90f384-375c-4aad-b22e-9495e547e926"
      },
      "execution_count": 85,
      "outputs": [
        {
          "output_type": "stream",
          "name": "stdout",
          "text": [
            "Overwriting exercise10.l\n"
          ]
        }
      ]
    },
    {
      "cell_type": "code",
      "source": [
        "!flex exercise10.l\n",
        "!gcc lex.yy.c -o exercise10 -lfl"
      ],
      "metadata": {
        "id": "MuKQJQxZpM_q"
      },
      "execution_count": 86,
      "outputs": []
    },
    {
      "cell_type": "code",
      "source": [
        "!echo \"5 0 -3 +2.7 -0 -.25 +0\" | ./exercise10"
      ],
      "metadata": {
        "colab": {
          "base_uri": "https://localhost:8080/"
        },
        "id": "um6UoQTepRlY",
        "outputId": "90deea12-f328-4211-861a-a88f4e29647d"
      },
      "execution_count": 87,
      "outputs": [
        {
          "output_type": "stream",
          "name": "stdout",
          "text": [
            "Enter numbers to analyze (Ctrl+D to end):\n",
            "Positive: 5\n",
            "Zero: 0\n",
            "Negative: -3\n",
            "Positive: +2.7\n",
            "Negative: -0\n",
            "Negative: -.25\n",
            "Zero: +0\n",
            "\n",
            "Counts:\n",
            "Positive numbers: 2\n",
            "Negative numbers: 3\n",
            "Zero values: 2\n"
          ]
        }
      ]
    }
  ]
}